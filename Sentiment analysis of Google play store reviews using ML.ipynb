{
 "cells": [
  {
   "cell_type": "code",
   "execution_count": 1,
   "metadata": {},
   "outputs": [],
   "source": [
    "import numpy as np \n",
    "import pandas as pd \n",
    "import re\n",
    "from sklearn.utils import resample\n",
    "import nltk \n",
    "import matplotlib.pyplot as plt\n",
    "import seaborn as sns"
   ]
  },
  {
   "cell_type": "code",
   "execution_count": 2,
   "metadata": {},
   "outputs": [
    {
     "data": {
      "text/html": [
       "<div>\n",
       "<style scoped>\n",
       "    .dataframe tbody tr th:only-of-type {\n",
       "        vertical-align: middle;\n",
       "    }\n",
       "\n",
       "    .dataframe tbody tr th {\n",
       "        vertical-align: top;\n",
       "    }\n",
       "\n",
       "    .dataframe thead th {\n",
       "        text-align: right;\n",
       "    }\n",
       "</style>\n",
       "<table border=\"1\" class=\"dataframe\">\n",
       "  <thead>\n",
       "    <tr style=\"text-align: right;\">\n",
       "      <th></th>\n",
       "      <th>reviewId</th>\n",
       "      <th>userName</th>\n",
       "      <th>userImage</th>\n",
       "      <th>content</th>\n",
       "      <th>score</th>\n",
       "      <th>thumbsUpCount</th>\n",
       "      <th>reviewCreatedVersion</th>\n",
       "      <th>at</th>\n",
       "      <th>replyContent</th>\n",
       "      <th>repliedAt</th>\n",
       "      <th>app_Id</th>\n",
       "    </tr>\n",
       "  </thead>\n",
       "  <tbody>\n",
       "    <tr>\n",
       "      <th>0</th>\n",
       "      <td>gp:AOqpTOHfSfVMoxl5cmq9kUks-tT3nXBdyWPRhKlms5M...</td>\n",
       "      <td>Laaonnoi Jaiyod</td>\n",
       "      <td>https://lh3.googleusercontent.com/a-/AOh14Gjrz...</td>\n",
       "      <td>Very laggy when chatting with latest version u...</td>\n",
       "      <td>1.0</td>\n",
       "      <td>0.0</td>\n",
       "      <td>10.3.1</td>\n",
       "      <td>2020-03-11 01:11:24</td>\n",
       "      <td>NaN</td>\n",
       "      <td>NaN</td>\n",
       "      <td>com.PepiPlay.KingsCastle</td>\n",
       "    </tr>\n",
       "    <tr>\n",
       "      <th>1</th>\n",
       "      <td>gp:AOqpTOHwTEuUGKuBJHgKtC60SVIAOUCWRNTlMPkIbmP...</td>\n",
       "      <td>Capp Farmer</td>\n",
       "      <td>https://lh3.googleusercontent.com/-1RlCo0f43Ko...</td>\n",
       "      <td>Its amazing....i like it very much...this app ...</td>\n",
       "      <td>5.0</td>\n",
       "      <td>2.0</td>\n",
       "      <td>NaN</td>\n",
       "      <td>2019-11-05 03:15:59</td>\n",
       "      <td>NaN</td>\n",
       "      <td>NaN</td>\n",
       "      <td>ginlemon.smartlauncher.extratool</td>\n",
       "    </tr>\n",
       "    <tr>\n",
       "      <th>2</th>\n",
       "      <td>gp:AOqpTOEb89oAwK_PlbgxA1rMHeYt9ntF76UuEhdPgjc...</td>\n",
       "      <td>Sandeep Sawant</td>\n",
       "      <td>https://lh3.googleusercontent.com/a-/AOh14Gi7R...</td>\n",
       "      <td>Good one</td>\n",
       "      <td>4.0</td>\n",
       "      <td>0.0</td>\n",
       "      <td>1.4.6</td>\n",
       "      <td>2018-08-28 18:19:49</td>\n",
       "      <td>NaN</td>\n",
       "      <td>NaN</td>\n",
       "      <td>tv.twitch.android.app</td>\n",
       "    </tr>\n",
       "    <tr>\n",
       "      <th>3</th>\n",
       "      <td>gp:AOqpTOFogWYVbXl8ZeE7K3YoN_sDWRr20jOO16Oarlk...</td>\n",
       "      <td>Tomas Šakalys</td>\n",
       "      <td>https://lh3.googleusercontent.com/a-/AOh14GjWU...</td>\n",
       "      <td>The only app that worked for my 2004 Renaul Cl...</td>\n",
       "      <td>5.0</td>\n",
       "      <td>1.0</td>\n",
       "      <td>1.41.7</td>\n",
       "      <td>2019-12-06 17:14:08</td>\n",
       "      <td>NaN</td>\n",
       "      <td>NaN</td>\n",
       "      <td>homeworkout.homeworkouts.noequipment</td>\n",
       "    </tr>\n",
       "    <tr>\n",
       "      <th>4</th>\n",
       "      <td>gp:AOqpTOFxlcucPGyAhbpEZH676xCB-px8kHoTWP3BY-2...</td>\n",
       "      <td>Michael</td>\n",
       "      <td>https://lh3.googleusercontent.com/a-/AOh14Gibm...</td>\n",
       "      <td>I like the start up and instant on.</td>\n",
       "      <td>5.0</td>\n",
       "      <td>0.0</td>\n",
       "      <td>2.3</td>\n",
       "      <td>2016-10-21 15:35:18</td>\n",
       "      <td>NaN</td>\n",
       "      <td>NaN</td>\n",
       "      <td>com.houzz.app</td>\n",
       "    </tr>\n",
       "  </tbody>\n",
       "</table>\n",
       "</div>"
      ],
      "text/plain": [
       "                                            reviewId         userName  \\\n",
       "0  gp:AOqpTOHfSfVMoxl5cmq9kUks-tT3nXBdyWPRhKlms5M...  Laaonnoi Jaiyod   \n",
       "1  gp:AOqpTOHwTEuUGKuBJHgKtC60SVIAOUCWRNTlMPkIbmP...      Capp Farmer   \n",
       "2  gp:AOqpTOEb89oAwK_PlbgxA1rMHeYt9ntF76UuEhdPgjc...   Sandeep Sawant   \n",
       "3  gp:AOqpTOFogWYVbXl8ZeE7K3YoN_sDWRr20jOO16Oarlk...    Tomas Šakalys   \n",
       "4  gp:AOqpTOFxlcucPGyAhbpEZH676xCB-px8kHoTWP3BY-2...          Michael   \n",
       "\n",
       "                                           userImage  \\\n",
       "0  https://lh3.googleusercontent.com/a-/AOh14Gjrz...   \n",
       "1  https://lh3.googleusercontent.com/-1RlCo0f43Ko...   \n",
       "2  https://lh3.googleusercontent.com/a-/AOh14Gi7R...   \n",
       "3  https://lh3.googleusercontent.com/a-/AOh14GjWU...   \n",
       "4  https://lh3.googleusercontent.com/a-/AOh14Gibm...   \n",
       "\n",
       "                                             content  score  thumbsUpCount  \\\n",
       "0  Very laggy when chatting with latest version u...    1.0            0.0   \n",
       "1  Its amazing....i like it very much...this app ...    5.0            2.0   \n",
       "2                                           Good one    4.0            0.0   \n",
       "3  The only app that worked for my 2004 Renaul Cl...    5.0            1.0   \n",
       "4                I like the start up and instant on.    5.0            0.0   \n",
       "\n",
       "  reviewCreatedVersion                   at replyContent repliedAt  \\\n",
       "0               10.3.1  2020-03-11 01:11:24          NaN       NaN   \n",
       "1                  NaN  2019-11-05 03:15:59          NaN       NaN   \n",
       "2                1.4.6  2018-08-28 18:19:49          NaN       NaN   \n",
       "3               1.41.7  2019-12-06 17:14:08          NaN       NaN   \n",
       "4                  2.3  2016-10-21 15:35:18          NaN       NaN   \n",
       "\n",
       "                                 app_Id  \n",
       "0              com.PepiPlay.KingsCastle  \n",
       "1      ginlemon.smartlauncher.extratool  \n",
       "2                 tv.twitch.android.app  \n",
       "3  homeworkout.homeworkouts.noequipment  \n",
       "4                         com.houzz.app  "
      ]
     },
     "execution_count": 2,
     "metadata": {},
     "output_type": "execute_result"
    }
   ],
   "source": [
    "df = pd.read_csv(\"C:/Users/dell/Desktop/Dissertation/Google Play Store Apps Reviews (+110K Comment)/Reviews.csv\")\n",
    "df.head()"
   ]
  },
  {
   "cell_type": "markdown",
   "metadata": {},
   "source": [
    "# Data exploration"
   ]
  },
  {
   "cell_type": "code",
   "execution_count": 3,
   "metadata": {},
   "outputs": [
    {
     "data": {
      "text/plain": [
       "(114344, 11)"
      ]
     },
     "execution_count": 3,
     "metadata": {},
     "output_type": "execute_result"
    }
   ],
   "source": [
    "df.shape"
   ]
  },
  {
   "cell_type": "code",
   "execution_count": 4,
   "metadata": {},
   "outputs": [
    {
     "name": "stdout",
     "output_type": "stream",
     "text": [
      "<class 'pandas.core.frame.DataFrame'>\n",
      "RangeIndex: 114344 entries, 0 to 114343\n",
      "Data columns (total 11 columns):\n",
      " #   Column                Non-Null Count   Dtype  \n",
      "---  ------                --------------   -----  \n",
      " 0   reviewId              114344 non-null  object \n",
      " 1   userName              114344 non-null  object \n",
      " 2   userImage             114344 non-null  object \n",
      " 3   content               114301 non-null  object \n",
      " 4   score                 114344 non-null  float64\n",
      " 5   thumbsUpCount         114344 non-null  float64\n",
      " 6   reviewCreatedVersion  99946 non-null   object \n",
      " 7   at                    114344 non-null  object \n",
      " 8   replyContent          16104 non-null   object \n",
      " 9   repliedAt             16104 non-null   object \n",
      " 10  app_Id                114344 non-null  object \n",
      "dtypes: float64(2), object(9)\n",
      "memory usage: 9.6+ MB\n"
     ]
    }
   ],
   "source": [
    "df.info()"
   ]
  },
  {
   "cell_type": "code",
   "execution_count": 5,
   "metadata": {},
   "outputs": [
    {
     "name": "stdout",
     "output_type": "stream",
     "text": [
      "reviewId                    0\n",
      "userName                    0\n",
      "userImage                   0\n",
      "content                    43\n",
      "score                       0\n",
      "thumbsUpCount               0\n",
      "reviewCreatedVersion    14398\n",
      "at                          0\n",
      "replyContent            98240\n",
      "repliedAt               98240\n",
      "app_Id                      0\n",
      "dtype: int64\n"
     ]
    }
   ],
   "source": [
    "print(df.isnull().sum())"
   ]
  },
  {
   "cell_type": "code",
   "execution_count": 6,
   "metadata": {},
   "outputs": [],
   "source": [
    "df = df.dropna(how='any', subset=['content'])"
   ]
  },
  {
   "cell_type": "code",
   "execution_count": 7,
   "metadata": {},
   "outputs": [
    {
     "name": "stdout",
     "output_type": "stream",
     "text": [
      "reviewId                    0\n",
      "userName                    0\n",
      "userImage                   0\n",
      "content                     0\n",
      "score                       0\n",
      "thumbsUpCount               0\n",
      "reviewCreatedVersion    14393\n",
      "at                          0\n",
      "replyContent            98197\n",
      "repliedAt               98197\n",
      "app_Id                      0\n",
      "dtype: int64\n"
     ]
    }
   ],
   "source": [
    "print(df.isnull().sum())"
   ]
  },
  {
   "cell_type": "code",
   "execution_count": 8,
   "metadata": {},
   "outputs": [],
   "source": [
    "df = df.dropna(how='any', subset=['reviewCreatedVersion'])"
   ]
  },
  {
   "cell_type": "code",
   "execution_count": 9,
   "metadata": {},
   "outputs": [
    {
     "name": "stdout",
     "output_type": "stream",
     "text": [
      "reviewId                    0\n",
      "userName                    0\n",
      "userImage                   0\n",
      "content                     0\n",
      "score                       0\n",
      "thumbsUpCount               0\n",
      "reviewCreatedVersion        0\n",
      "at                          0\n",
      "replyContent            86307\n",
      "repliedAt               86307\n",
      "app_Id                      0\n",
      "dtype: int64\n"
     ]
    }
   ],
   "source": [
    "print(df.isnull().sum())"
   ]
  },
  {
   "cell_type": "code",
   "execution_count": 10,
   "metadata": {},
   "outputs": [],
   "source": [
    "df.drop([\"replyContent\", \"repliedAt\"], axis = 1, inplace = True)"
   ]
  },
  {
   "cell_type": "code",
   "execution_count": 11,
   "metadata": {},
   "outputs": [
    {
     "name": "stdout",
     "output_type": "stream",
     "text": [
      "reviewId                0\n",
      "userName                0\n",
      "userImage               0\n",
      "content                 0\n",
      "score                   0\n",
      "thumbsUpCount           0\n",
      "reviewCreatedVersion    0\n",
      "at                      0\n",
      "app_Id                  0\n",
      "dtype: int64\n"
     ]
    }
   ],
   "source": [
    "print(df.isnull().sum())"
   ]
  },
  {
   "cell_type": "code",
   "execution_count": 12,
   "metadata": {},
   "outputs": [
    {
     "data": {
      "text/plain": [
       "(99908, 9)"
      ]
     },
     "execution_count": 12,
     "metadata": {},
     "output_type": "execute_result"
    }
   ],
   "source": [
    "df.shape"
   ]
  },
  {
   "cell_type": "code",
   "execution_count": 13,
   "metadata": {},
   "outputs": [
    {
     "name": "stdout",
     "output_type": "stream",
     "text": [
      "<class 'pandas.core.frame.DataFrame'>\n",
      "Int64Index: 99908 entries, 0 to 114343\n",
      "Data columns (total 9 columns):\n",
      " #   Column                Non-Null Count  Dtype  \n",
      "---  ------                --------------  -----  \n",
      " 0   reviewId              99908 non-null  object \n",
      " 1   userName              99908 non-null  object \n",
      " 2   userImage             99908 non-null  object \n",
      " 3   content               99908 non-null  object \n",
      " 4   score                 99908 non-null  float64\n",
      " 5   thumbsUpCount         99908 non-null  float64\n",
      " 6   reviewCreatedVersion  99908 non-null  object \n",
      " 7   at                    99908 non-null  object \n",
      " 8   app_Id                99908 non-null  object \n",
      "dtypes: float64(2), object(7)\n",
      "memory usage: 7.6+ MB\n"
     ]
    }
   ],
   "source": [
    "df.info()"
   ]
  },
  {
   "cell_type": "code",
   "execution_count": 14,
   "metadata": {},
   "outputs": [
    {
     "data": {
      "text/html": [
       "<div>\n",
       "<style scoped>\n",
       "    .dataframe tbody tr th:only-of-type {\n",
       "        vertical-align: middle;\n",
       "    }\n",
       "\n",
       "    .dataframe tbody tr th {\n",
       "        vertical-align: top;\n",
       "    }\n",
       "\n",
       "    .dataframe thead th {\n",
       "        text-align: right;\n",
       "    }\n",
       "</style>\n",
       "<table border=\"1\" class=\"dataframe\">\n",
       "  <thead>\n",
       "    <tr style=\"text-align: right;\">\n",
       "      <th></th>\n",
       "      <th>score</th>\n",
       "      <th>thumbsUpCount</th>\n",
       "    </tr>\n",
       "  </thead>\n",
       "  <tbody>\n",
       "    <tr>\n",
       "      <th>score</th>\n",
       "      <td>1.000000</td>\n",
       "      <td>-0.044444</td>\n",
       "    </tr>\n",
       "    <tr>\n",
       "      <th>thumbsUpCount</th>\n",
       "      <td>-0.044444</td>\n",
       "      <td>1.000000</td>\n",
       "    </tr>\n",
       "  </tbody>\n",
       "</table>\n",
       "</div>"
      ],
      "text/plain": [
       "                  score  thumbsUpCount\n",
       "score          1.000000      -0.044444\n",
       "thumbsUpCount -0.044444       1.000000"
      ]
     },
     "execution_count": 14,
     "metadata": {},
     "output_type": "execute_result"
    }
   ],
   "source": [
    "corr = df.corr()\n",
    "corr"
   ]
  },
  {
   "cell_type": "code",
   "execution_count": 15,
   "metadata": {},
   "outputs": [],
   "source": [
    "df[\"content\"] = df[\"content\"].str.encode('utf-8')"
   ]
  },
  {
   "cell_type": "code",
   "execution_count": 16,
   "metadata": {},
   "outputs": [
    {
     "data": {
      "text/plain": [
       "Text(0.5, 0, 'review score')"
      ]
     },
     "execution_count": 16,
     "metadata": {},
     "output_type": "execute_result"
    },
    {
     "data": {
      "image/png": "[encoded data removed]",
      "text/plain": [
       "<Figure size 432x288 with 1 Axes>"
      ]
     },
     "metadata": {
      "needs_background": "light"
     },
     "output_type": "display_data"
    }
   ],
   "source": [
    "sns.countplot(df.score)\n",
    "plt.xlabel(\"review score\")"
   ]
  },
  {
   "cell_type": "code",
   "execution_count": 17,
   "metadata": {},
   "outputs": [],
   "source": [
    "def to_sentiment(rating):\n",
    "  rating = int(rating)\n",
    "  if rating <= 2:\n",
    "    return 0\n",
    "  elif rating == 3:\n",
    "    return 1\n",
    "  else: \n",
    "    return 2"
   ]
  },
  {
   "cell_type": "code",
   "execution_count": 18,
   "metadata": {},
   "outputs": [],
   "source": [
    "df['sentiment'] = df.score.apply(to_sentiment)"
   ]
  },
  {
   "cell_type": "code",
   "execution_count": 19,
   "metadata": {},
   "outputs": [],
   "source": [
    "category_names = ['negative', 'neutral', 'positive']"
   ]
  },
  {
   "cell_type": "code",
   "execution_count": 20,
   "metadata": {},
   "outputs": [
    {
     "data": {
      "image/png": "[encoded data removed]",
      "text/plain": [
       "<Figure size 432x288 with 1 Axes>"
      ]
     },
     "metadata": {
      "needs_background": "light"
     },
     "output_type": "display_data"
    }
   ],
   "source": [
    "ax = sns.countplot(df.sentiment)\n",
    "plt.xlabel('review sentiment')\n",
    "ax.set_xticklabels(category_names);"
   ]
  },
  {
   "cell_type": "code",
   "execution_count": 21,
   "metadata": {},
   "outputs": [
    {
     "data": {
      "text/html": [
       "<div>\n",
       "<style scoped>\n",
       "    .dataframe tbody tr th:only-of-type {\n",
       "        vertical-align: middle;\n",
       "    }\n",
       "\n",
       "    .dataframe tbody tr th {\n",
       "        vertical-align: top;\n",
       "    }\n",
       "\n",
       "    .dataframe thead th {\n",
       "        text-align: right;\n",
       "    }\n",
       "</style>\n",
       "<table border=\"1\" class=\"dataframe\">\n",
       "  <thead>\n",
       "    <tr style=\"text-align: right;\">\n",
       "      <th></th>\n",
       "      <th>reviewId</th>\n",
       "      <th>userName</th>\n",
       "      <th>userImage</th>\n",
       "      <th>content</th>\n",
       "      <th>score</th>\n",
       "      <th>thumbsUpCount</th>\n",
       "      <th>reviewCreatedVersion</th>\n",
       "      <th>at</th>\n",
       "      <th>app_Id</th>\n",
       "      <th>sentiment</th>\n",
       "    </tr>\n",
       "  </thead>\n",
       "  <tbody>\n",
       "    <tr>\n",
       "      <th>0</th>\n",
       "      <td>gp:AOqpTOHfSfVMoxl5cmq9kUks-tT3nXBdyWPRhKlms5M...</td>\n",
       "      <td>Laaonnoi Jaiyod</td>\n",
       "      <td>https://lh3.googleusercontent.com/a-/AOh14Gjrz...</td>\n",
       "      <td>b'Very laggy when chatting with latest version...</td>\n",
       "      <td>1.0</td>\n",
       "      <td>0.0</td>\n",
       "      <td>10.3.1</td>\n",
       "      <td>2020-03-11 01:11:24</td>\n",
       "      <td>com.PepiPlay.KingsCastle</td>\n",
       "      <td>0</td>\n",
       "    </tr>\n",
       "    <tr>\n",
       "      <th>2</th>\n",
       "      <td>gp:AOqpTOEb89oAwK_PlbgxA1rMHeYt9ntF76UuEhdPgjc...</td>\n",
       "      <td>Sandeep Sawant</td>\n",
       "      <td>https://lh3.googleusercontent.com/a-/AOh14Gi7R...</td>\n",
       "      <td>b'Good one'</td>\n",
       "      <td>4.0</td>\n",
       "      <td>0.0</td>\n",
       "      <td>1.4.6</td>\n",
       "      <td>2018-08-28 18:19:49</td>\n",
       "      <td>tv.twitch.android.app</td>\n",
       "      <td>2</td>\n",
       "    </tr>\n",
       "    <tr>\n",
       "      <th>3</th>\n",
       "      <td>gp:AOqpTOFogWYVbXl8ZeE7K3YoN_sDWRr20jOO16Oarlk...</td>\n",
       "      <td>Tomas Šakalys</td>\n",
       "      <td>https://lh3.googleusercontent.com/a-/AOh14GjWU...</td>\n",
       "      <td>b'The only app that worked for my 2004 Renaul ...</td>\n",
       "      <td>5.0</td>\n",
       "      <td>1.0</td>\n",
       "      <td>1.41.7</td>\n",
       "      <td>2019-12-06 17:14:08</td>\n",
       "      <td>homeworkout.homeworkouts.noequipment</td>\n",
       "      <td>2</td>\n",
       "    </tr>\n",
       "    <tr>\n",
       "      <th>4</th>\n",
       "      <td>gp:AOqpTOFxlcucPGyAhbpEZH676xCB-px8kHoTWP3BY-2...</td>\n",
       "      <td>Michael</td>\n",
       "      <td>https://lh3.googleusercontent.com/a-/AOh14Gibm...</td>\n",
       "      <td>b'I like the start up and instant on.'</td>\n",
       "      <td>5.0</td>\n",
       "      <td>0.0</td>\n",
       "      <td>2.3</td>\n",
       "      <td>2016-10-21 15:35:18</td>\n",
       "      <td>com.houzz.app</td>\n",
       "      <td>2</td>\n",
       "    </tr>\n",
       "    <tr>\n",
       "      <th>6</th>\n",
       "      <td>gp:AOqpTOGwaBy2vnCEI463lazZf-kXJD7yglqpRTKRhWq...</td>\n",
       "      <td>Keya Kibria</td>\n",
       "      <td>https://lh3.googleusercontent.com/a-/AOh14GgsH...</td>\n",
       "      <td>b'Excellent app. Just love it \\xf0\\x9f\\x98\\x8d'</td>\n",
       "      <td>5.0</td>\n",
       "      <td>0.0</td>\n",
       "      <td>5.63.2</td>\n",
       "      <td>2020-03-28 15:17:45</td>\n",
       "      <td>com.boranuonline.idates</td>\n",
       "      <td>2</td>\n",
       "    </tr>\n",
       "    <tr>\n",
       "      <th>...</th>\n",
       "      <td>...</td>\n",
       "      <td>...</td>\n",
       "      <td>...</td>\n",
       "      <td>...</td>\n",
       "      <td>...</td>\n",
       "      <td>...</td>\n",
       "      <td>...</td>\n",
       "      <td>...</td>\n",
       "      <td>...</td>\n",
       "      <td>...</td>\n",
       "    </tr>\n",
       "    <tr>\n",
       "      <th>114337</th>\n",
       "      <td>gp:AOqpTOHFAntFa1nPTLtlpCTOWUvjtiRKh5AqiUYO7SI...</td>\n",
       "      <td>Prem Raj</td>\n",
       "      <td>https://lh3.googleusercontent.com/a-/AOh14GgRO...</td>\n",
       "      <td>b'Best app All in one \\xe2\\xad\\x90\\xe2\\xad\\x90...</td>\n",
       "      <td>5.0</td>\n",
       "      <td>0.0</td>\n",
       "      <td>5.20.0.20022010</td>\n",
       "      <td>2020-04-07 09:57:36</td>\n",
       "      <td>com.eventbrite.attendee</td>\n",
       "      <td>2</td>\n",
       "    </tr>\n",
       "    <tr>\n",
       "      <th>114338</th>\n",
       "      <td>gp:AOqpTOFZSJosuOBOgtK8hvE5YQzsBmyauGNyXs6cHEO...</td>\n",
       "      <td>ALL Gamers Channel</td>\n",
       "      <td>https://lh3.googleusercontent.com/-Rf96pAu1cRc...</td>\n",
       "      <td>b'Best quality I experienced'</td>\n",
       "      <td>5.0</td>\n",
       "      <td>0.0</td>\n",
       "      <td>1.84.0.1</td>\n",
       "      <td>2020-04-21 03:31:28</td>\n",
       "      <td>com.glow.android.baby</td>\n",
       "      <td>2</td>\n",
       "    </tr>\n",
       "    <tr>\n",
       "      <th>114339</th>\n",
       "      <td>gp:AOqpTOGhvk-AhQwQX6lZWzzqLKqdT8VWM7ri5pE1ZDe...</td>\n",
       "      <td>Superboy</td>\n",
       "      <td>https://lh3.googleusercontent.com/a-/AOh14Ggqb...</td>\n",
       "      <td>b\"It's so great and easy to understand.\"</td>\n",
       "      <td>5.0</td>\n",
       "      <td>0.0</td>\n",
       "      <td>6.1.0</td>\n",
       "      <td>2020-05-11 04:19:06</td>\n",
       "      <td>air.com.rosettastone.mobile.CoursePlayer</td>\n",
       "      <td>2</td>\n",
       "    </tr>\n",
       "    <tr>\n",
       "      <th>114342</th>\n",
       "      <td>gp:AOqpTOEKHf8Si9Sd6kR3lkIyYR2_IQibPdWnFAslEnP...</td>\n",
       "      <td>Yuka Chan</td>\n",
       "      <td>https://lh3.googleusercontent.com/a-/AOh14GhhV...</td>\n",
       "      <td>b\"I love the cute animal sticker packs, reacti...</td>\n",
       "      <td>5.0</td>\n",
       "      <td>18.0</td>\n",
       "      <td>262.2.0.26.120</td>\n",
       "      <td>2020-05-05 05:56:33</td>\n",
       "      <td>com.audioaddict.di</td>\n",
       "      <td>2</td>\n",
       "    </tr>\n",
       "    <tr>\n",
       "      <th>114343</th>\n",
       "      <td>gp:AOqpTOFlX6K4BTP6z-bBJ6xMpNMmqdVcQ-7KPHkJlnQ...</td>\n",
       "      <td>Quintin Greyling</td>\n",
       "      <td>https://lh3.googleusercontent.com/-AzJ3_hs8DA0...</td>\n",
       "      <td>b'Fantastic app for managing blood sugar level...</td>\n",
       "      <td>5.0</td>\n",
       "      <td>0.0</td>\n",
       "      <td>3.62.1</td>\n",
       "      <td>2019-08-24 15:38:14</td>\n",
       "      <td>video.like</td>\n",
       "      <td>2</td>\n",
       "    </tr>\n",
       "  </tbody>\n",
       "</table>\n",
       "<p>99908 rows × 10 columns</p>\n",
       "</div>"
      ],
      "text/plain": [
       "                                                 reviewId            userName  \\\n",
       "0       gp:AOqpTOHfSfVMoxl5cmq9kUks-tT3nXBdyWPRhKlms5M...     Laaonnoi Jaiyod   \n",
       "2       gp:AOqpTOEb89oAwK_PlbgxA1rMHeYt9ntF76UuEhdPgjc...      Sandeep Sawant   \n",
       "3       gp:AOqpTOFogWYVbXl8ZeE7K3YoN_sDWRr20jOO16Oarlk...       Tomas Šakalys   \n",
       "4       gp:AOqpTOFxlcucPGyAhbpEZH676xCB-px8kHoTWP3BY-2...             Michael   \n",
       "6       gp:AOqpTOGwaBy2vnCEI463lazZf-kXJD7yglqpRTKRhWq...         Keya Kibria   \n",
       "...                                                   ...                 ...   \n",
       "114337  gp:AOqpTOHFAntFa1nPTLtlpCTOWUvjtiRKh5AqiUYO7SI...            Prem Raj   \n",
       "114338  gp:AOqpTOFZSJosuOBOgtK8hvE5YQzsBmyauGNyXs6cHEO...  ALL Gamers Channel   \n",
       "114339  gp:AOqpTOGhvk-AhQwQX6lZWzzqLKqdT8VWM7ri5pE1ZDe...            Superboy   \n",
       "114342  gp:AOqpTOEKHf8Si9Sd6kR3lkIyYR2_IQibPdWnFAslEnP...           Yuka Chan   \n",
       "114343  gp:AOqpTOFlX6K4BTP6z-bBJ6xMpNMmqdVcQ-7KPHkJlnQ...    Quintin Greyling   \n",
       "\n",
       "                                                userImage  \\\n",
       "0       https://lh3.googleusercontent.com/a-/AOh14Gjrz...   \n",
       "2       https://lh3.googleusercontent.com/a-/AOh14Gi7R...   \n",
       "3       https://lh3.googleusercontent.com/a-/AOh14GjWU...   \n",
       "4       https://lh3.googleusercontent.com/a-/AOh14Gibm...   \n",
       "6       https://lh3.googleusercontent.com/a-/AOh14GgsH...   \n",
       "...                                                   ...   \n",
       "114337  https://lh3.googleusercontent.com/a-/AOh14GgRO...   \n",
       "114338  https://lh3.googleusercontent.com/-Rf96pAu1cRc...   \n",
       "114339  https://lh3.googleusercontent.com/a-/AOh14Ggqb...   \n",
       "114342  https://lh3.googleusercontent.com/a-/AOh14GhhV...   \n",
       "114343  https://lh3.googleusercontent.com/-AzJ3_hs8DA0...   \n",
       "\n",
       "                                                  content  score  \\\n",
       "0       b'Very laggy when chatting with latest version...    1.0   \n",
       "2                                             b'Good one'    4.0   \n",
       "3       b'The only app that worked for my 2004 Renaul ...    5.0   \n",
       "4                  b'I like the start up and instant on.'    5.0   \n",
       "6         b'Excellent app. Just love it \\xf0\\x9f\\x98\\x8d'    5.0   \n",
       "...                                                   ...    ...   \n",
       "114337  b'Best app All in one \\xe2\\xad\\x90\\xe2\\xad\\x90...    5.0   \n",
       "114338                      b'Best quality I experienced'    5.0   \n",
       "114339           b\"It's so great and easy to understand.\"    5.0   \n",
       "114342  b\"I love the cute animal sticker packs, reacti...    5.0   \n",
       "114343  b'Fantastic app for managing blood sugar level...    5.0   \n",
       "\n",
       "        thumbsUpCount reviewCreatedVersion                   at  \\\n",
       "0                 0.0               10.3.1  2020-03-11 01:11:24   \n",
       "2                 0.0                1.4.6  2018-08-28 18:19:49   \n",
       "3                 1.0               1.41.7  2019-12-06 17:14:08   \n",
       "4                 0.0                  2.3  2016-10-21 15:35:18   \n",
       "6                 0.0               5.63.2  2020-03-28 15:17:45   \n",
       "...               ...                  ...                  ...   \n",
       "114337            0.0      5.20.0.20022010  2020-04-07 09:57:36   \n",
       "114338            0.0             1.84.0.1  2020-04-21 03:31:28   \n",
       "114339            0.0                6.1.0  2020-05-11 04:19:06   \n",
       "114342           18.0       262.2.0.26.120  2020-05-05 05:56:33   \n",
       "114343            0.0               3.62.1  2019-08-24 15:38:14   \n",
       "\n",
       "                                          app_Id  sentiment  \n",
       "0                       com.PepiPlay.KingsCastle          0  \n",
       "2                          tv.twitch.android.app          2  \n",
       "3           homeworkout.homeworkouts.noequipment          2  \n",
       "4                                  com.houzz.app          2  \n",
       "6                        com.boranuonline.idates          2  \n",
       "...                                          ...        ...  \n",
       "114337                   com.eventbrite.attendee          2  \n",
       "114338                     com.glow.android.baby          2  \n",
       "114339  air.com.rosettastone.mobile.CoursePlayer          2  \n",
       "114342                        com.audioaddict.di          2  \n",
       "114343                                video.like          2  \n",
       "\n",
       "[99908 rows x 10 columns]"
      ]
     },
     "execution_count": 21,
     "metadata": {},
     "output_type": "execute_result"
    }
   ],
   "source": [
    "df"
   ]
  },
  {
   "cell_type": "code",
   "execution_count": 22,
   "metadata": {},
   "outputs": [
    {
     "data": {
      "text/plain": [
       "(99908, 10)"
      ]
     },
     "execution_count": 22,
     "metadata": {},
     "output_type": "execute_result"
    }
   ],
   "source": [
    "df.shape"
   ]
  },
  {
   "cell_type": "code",
   "execution_count": 33,
   "metadata": {},
   "outputs": [
    {
     "name": "stdout",
     "output_type": "stream",
     "text": [
      "<class 'pandas.core.frame.DataFrame'>\n",
      "Int64Index: 99908 entries, 0 to 114343\n",
      "Data columns (total 10 columns):\n",
      " #   Column                Non-Null Count  Dtype  \n",
      "---  ------                --------------  -----  \n",
      " 0   reviewId              99908 non-null  object \n",
      " 1   userName              99908 non-null  object \n",
      " 2   userImage             99908 non-null  object \n",
      " 3   content               99908 non-null  object \n",
      " 4   score                 99908 non-null  float64\n",
      " 5   thumbsUpCount         99908 non-null  float64\n",
      " 6   reviewCreatedVersion  99908 non-null  object \n",
      " 7   at                    99908 non-null  object \n",
      " 8   app_Id                99908 non-null  object \n",
      " 9   sentiment             99908 non-null  int64  \n",
      "dtypes: float64(2), int64(1), object(7)\n",
      "memory usage: 10.9+ MB\n"
     ]
    }
   ],
   "source": [
    "df.info()"
   ]
  },
  {
   "cell_type": "code",
   "execution_count": 45,
   "metadata": {},
   "outputs": [
    {
     "name": "stdout",
     "output_type": "stream",
     "text": [
      "153\n"
     ]
    }
   ],
   "source": [
    "print(df['app_Id'].nunique())"
   ]
  },
  {
   "cell_type": "code",
   "execution_count": 58,
   "metadata": {},
   "outputs": [
    {
     "data": {
      "text/plain": [
       "com.advasoft.touchretouch               750\n",
       "ru.ok.messages                          750\n",
       "com.doodlejoy.studio.kaleidoo           750\n",
       "com.dualboot.apps.ocean                 750\n",
       "com.tiim.tradinggame                    750\n",
       "                                       ... \n",
       "com.google.android.inputmethod.latin    376\n",
       "com.pomelogames.MarsGame                345\n",
       "com.google.android.apps.magazines       344\n",
       "com.specialyg.ippro                     180\n",
       "com.nexon.kart                          105\n",
       "Name: app_Id, Length: 153, dtype: int64"
      ]
     },
     "execution_count": 58,
     "metadata": {},
     "output_type": "execute_result"
    }
   ],
   "source": [
    "df.app_Id.value_counts()"
   ]
  },
  {
   "cell_type": "code",
   "execution_count": 63,
   "metadata": {},
   "outputs": [
    {
     "data": {
      "text/plain": [
       "<AxesSubplot:xlabel='app_Id'>"
      ]
     },
     "execution_count": 63,
     "metadata": {},
     "output_type": "execute_result"
    },
    {
     "data": {
      "image/png": "[encoded data removed]",
      "text/plain": [
       "<Figure size 720x504 with 1 Axes>"
      ]
     },
     "metadata": {
      "needs_background": "light"
     },
     "output_type": "display_data"
    }
   ],
   "source": [
    "## Best App\n",
    "plt.figure(figsize=(10,7))\n",
    "best_app = df.app_Id[df['sentiment'] == 2].value_counts().head(10)\n",
    "sns.barplot(x=best_app, y=best_app.index, data=df)"
   ]
  },
  {
   "cell_type": "code",
   "execution_count": 64,
   "metadata": {},
   "outputs": [
    {
     "data": {
      "text/plain": [
       "<AxesSubplot:xlabel='app_Id'>"
      ]
     },
     "execution_count": 64,
     "metadata": {},
     "output_type": "execute_result"
    },
    {
     "data": {
      "image/png": "[encoded data removed]",
      "text/plain": [
       "<Figure size 720x504 with 1 Axes>"
      ]
     },
     "metadata": {
      "needs_background": "light"
     },
     "output_type": "display_data"
    }
   ],
   "source": [
    "## Worst App\n",
    "plt.figure(figsize=(10,7))\n",
    "worst_app = df.app_Id[df['sentiment'] == 0].value_counts().head(10)\n",
    "sns.barplot(x=worst_app, y=worst_app.index, data=df)"
   ]
  },
  {
   "cell_type": "markdown",
   "metadata": {},
   "source": [
    "# Data preprocessing"
   ]
  },
  {
   "cell_type": "code",
   "execution_count": 23,
   "metadata": {},
   "outputs": [],
   "source": [
    "features = df.iloc[:, 3].values\n",
    "labels = df.iloc[:, -1].values"
   ]
  },
  {
   "cell_type": "code",
   "execution_count": 24,
   "metadata": {},
   "outputs": [],
   "source": [
    "import re"
   ]
  },
  {
   "cell_type": "code",
   "execution_count": 25,
   "metadata": {},
   "outputs": [],
   "source": [
    "processed_features = []\n",
    "\n",
    "for sentence in range(0, len(features)):\n",
    "    # Remove all the special characters\n",
    "    processed_feature = re.sub(r'\\W', ' ', str(features[sentence]))\n",
    "\n",
    "    # remove all single characters\n",
    "    processed_feature= re.sub(r'\\s+[a-zA-Z]\\s+', ' ', processed_feature)\n",
    "\n",
    "    # Remove single characters from the start\n",
    "    processed_feature = re.sub(r'\\^[a-zA-Z]\\s+', ' ', processed_feature) \n",
    "\n",
    "    # Substituting multiple spaces with single space\n",
    "    processed_feature = re.sub(r'\\s+', ' ', processed_feature, flags=re.I)\n",
    "\n",
    "    # Removing prefixed 'b'\n",
    "    processed_feature = re.sub(r'^b\\s+', '', processed_feature)\n",
    "\n",
    "    # Converting to Lowercase\n",
    "    processed_feature = processed_feature.lower()\n",
    "\n",
    "    processed_features.append(processed_feature)"
   ]
  },
  {
   "cell_type": "code",
   "execution_count": 26,
   "metadata": {},
   "outputs": [],
   "source": [
    "#nltk.download('stopwords')\n",
    "from nltk.corpus import stopwords\n",
    "from sklearn.feature_extraction.text import TfidfVectorizer\n",
    "\n",
    "vectorizer = TfidfVectorizer (max_features=2500, min_df=7, max_df=0.8, stop_words=stopwords.words('english'))\n",
    "processed_features = vectorizer.fit_transform(processed_features).toarray()"
   ]
  },
  {
   "cell_type": "code",
   "execution_count": 27,
   "metadata": {},
   "outputs": [],
   "source": [
    "from sklearn.model_selection import train_test_split\n",
    "\n",
    "X_train, X_test, Y_train, Y_test = train_test_split(processed_features, labels, test_size=0.2, random_state=0)"
   ]
  },
  {
   "cell_type": "markdown",
   "metadata": {},
   "source": [
    "# Logistic Regression"
   ]
  },
  {
   "cell_type": "code",
   "execution_count": 28,
   "metadata": {},
   "outputs": [
    {
     "name": "stderr",
     "output_type": "stream",
     "text": [
      "C:\\Users\\dell\\.conda\\envs\\test\\lib\\site-packages\\sklearn\\linear_model\\_logistic.py:762: ConvergenceWarning: lbfgs failed to converge (status=1):\n",
      "STOP: TOTAL NO. of ITERATIONS REACHED LIMIT.\n",
      "\n",
      "Increase the number of iterations (max_iter) or scale the data as shown in:\n",
      "    https://scikit-learn.org/stable/modules/preprocessing.html\n",
      "Please also refer to the documentation for alternative solver options:\n",
      "    https://scikit-learn.org/stable/modules/linear_model.html#logistic-regression\n",
      "  n_iter_i = _check_optimize_result(\n"
     ]
    },
    {
     "data": {
      "text/plain": [
       "LogisticRegression(multi_class='multinomial', random_state=0)"
      ]
     },
     "execution_count": 28,
     "metadata": {},
     "output_type": "execute_result"
    }
   ],
   "source": [
    "from sklearn.linear_model import LogisticRegression\n",
    "\n",
    "text_classifier1 = LogisticRegression(random_state=0, multi_class='multinomial')\n",
    "text_classifier1.fit(X_train, Y_train)"
   ]
  },
  {
   "cell_type": "code",
   "execution_count": 29,
   "metadata": {},
   "outputs": [],
   "source": [
    "pred1 = text_classifier1.predict(X_test)"
   ]
  },
  {
   "cell_type": "code",
   "execution_count": 31,
   "metadata": {},
   "outputs": [
    {
     "name": "stdout",
     "output_type": "stream",
     "text": [
      "[[ 3428    46  1096]\n",
      " [  590    40   849]\n",
      " [  599    60 13274]]\n",
      "              precision    recall  f1-score   support\n",
      "\n",
      "           0       0.74      0.75      0.75      4570\n",
      "           1       0.27      0.03      0.05      1479\n",
      "           2       0.87      0.95      0.91     13933\n",
      "\n",
      "    accuracy                           0.84     19982\n",
      "   macro avg       0.63      0.58      0.57     19982\n",
      "weighted avg       0.80      0.84      0.81     19982\n",
      "\n",
      "0.8378540686617956\n"
     ]
    }
   ],
   "source": [
    "from sklearn.metrics import classification_report, confusion_matrix, accuracy_score\n",
    "\n",
    "print(confusion_matrix(Y_test,pred1))\n",
    "print(classification_report(Y_test,pred1))\n",
    "print(accuracy_score(Y_test, pred1))"
   ]
  },
  {
   "cell_type": "markdown",
   "metadata": {},
   "source": [
    "# Random Forest"
   ]
  },
  {
   "cell_type": "code",
   "execution_count": 32,
   "metadata": {},
   "outputs": [
    {
     "data": {
      "text/plain": [
       "RandomForestClassifier(random_state=0)"
      ]
     },
     "execution_count": 32,
     "metadata": {},
     "output_type": "execute_result"
    }
   ],
   "source": [
    "from sklearn.ensemble import RandomForestClassifier\n",
    "\n",
    "text_classifier2 = RandomForestClassifier(n_estimators=100, random_state=0)\n",
    "text_classifier2.fit(X_train, Y_train)"
   ]
  },
  {
   "cell_type": "code",
   "execution_count": 34,
   "metadata": {},
   "outputs": [],
   "source": [
    "pred2 = text_classifier2.predict(X_test)"
   ]
  },
  {
   "cell_type": "code",
   "execution_count": 35,
   "metadata": {},
   "outputs": [
    {
     "name": "stdout",
     "output_type": "stream",
     "text": [
      "[[ 3401    15  1154]\n",
      " [  633     8   838]\n",
      " [  809    25 13099]]\n",
      "              precision    recall  f1-score   support\n",
      "\n",
      "           0       0.70      0.74      0.72      4570\n",
      "           1       0.17      0.01      0.01      1479\n",
      "           2       0.87      0.94      0.90     13933\n",
      "\n",
      "    accuracy                           0.83     19982\n",
      "   macro avg       0.58      0.56      0.55     19982\n",
      "weighted avg       0.78      0.83      0.80     19982\n",
      "\n",
      "0.8261435291762587\n"
     ]
    }
   ],
   "source": [
    "print(confusion_matrix(Y_test,pred2))\n",
    "print(classification_report(Y_test,pred2))\n",
    "print(accuracy_score(Y_test, pred2))"
   ]
  },
  {
   "cell_type": "markdown",
   "metadata": {},
   "source": [
    "# Naive Bayes"
   ]
  },
  {
   "cell_type": "code",
   "execution_count": 59,
   "metadata": {},
   "outputs": [
    {
     "data": {
      "text/plain": [
       "MultinomialNB()"
      ]
     },
     "execution_count": 59,
     "metadata": {},
     "output_type": "execute_result"
    }
   ],
   "source": [
    "from sklearn.naive_bayes import MultinomialNB\n",
    "\n",
    "text_classifier3 = MultinomialNB()\n",
    "text_classifier3.fit(X_train, Y_train)"
   ]
  },
  {
   "cell_type": "code",
   "execution_count": 60,
   "metadata": {},
   "outputs": [],
   "source": [
    "pred3 = text_classifier3.predict(X_test)"
   ]
  },
  {
   "cell_type": "code",
   "execution_count": 61,
   "metadata": {},
   "outputs": [
    {
     "name": "stdout",
     "output_type": "stream",
     "text": [
      "[[ 3213     0  1357]\n",
      " [  568     6   905]\n",
      " [  606     4 13323]]\n",
      "              precision    recall  f1-score   support\n",
      "\n",
      "           0       0.73      0.70      0.72      4570\n",
      "           1       0.60      0.00      0.01      1479\n",
      "           2       0.85      0.96      0.90     13933\n",
      "\n",
      "    accuracy                           0.83     19982\n",
      "   macro avg       0.73      0.55      0.54     19982\n",
      "weighted avg       0.81      0.83      0.79     19982\n",
      "\n",
      "0.827845060554499\n"
     ]
    }
   ],
   "source": [
    "print(confusion_matrix(Y_test,pred3))\n",
    "print(classification_report(Y_test,pred3))\n",
    "print(accuracy_score(Y_test, pred3))"
   ]
  },
  {
   "cell_type": "markdown",
   "metadata": {},
   "source": [
    "# KNN"
   ]
  },
  {
   "cell_type": "code",
   "execution_count": 39,
   "metadata": {},
   "outputs": [
    {
     "data": {
      "text/plain": [
       "KNeighborsClassifier()"
      ]
     },
     "execution_count": 39,
     "metadata": {},
     "output_type": "execute_result"
    }
   ],
   "source": [
    "from sklearn.neighbors import KNeighborsClassifier\n",
    "\n",
    "text_classifier4 = KNeighborsClassifier(n_neighbors=5)\n",
    "text_classifier4.fit(X_train, Y_train)"
   ]
  },
  {
   "cell_type": "code",
   "execution_count": 40,
   "metadata": {},
   "outputs": [],
   "source": [
    "pred4 = text_classifier4.predict(X_test)"
   ]
  },
  {
   "cell_type": "code",
   "execution_count": 41,
   "metadata": {},
   "outputs": [
    {
     "name": "stdout",
     "output_type": "stream",
     "text": [
      "[[  980    48  3542]\n",
      " [  166    38  1275]\n",
      " [  349    95 13489]]\n",
      "              precision    recall  f1-score   support\n",
      "\n",
      "           0       0.66      0.21      0.32      4570\n",
      "           1       0.21      0.03      0.05      1479\n",
      "           2       0.74      0.97      0.84     13933\n",
      "\n",
      "    accuracy                           0.73     19982\n",
      "   macro avg       0.53      0.40      0.40     19982\n",
      "weighted avg       0.68      0.73      0.66     19982\n",
      "\n",
      "0.7260034030627565\n"
     ]
    }
   ],
   "source": [
    "print(confusion_matrix(Y_test,pred4))\n",
    "print(classification_report(Y_test,pred4))\n",
    "print(accuracy_score(Y_test, pred4))"
   ]
  },
  {
   "cell_type": "markdown",
   "metadata": {},
   "source": [
    "# SVM"
   ]
  },
  {
   "cell_type": "code",
   "execution_count": 42,
   "metadata": {},
   "outputs": [
    {
     "data": {
      "text/plain": [
       "SVC(kernel='linear')"
      ]
     },
     "execution_count": 42,
     "metadata": {},
     "output_type": "execute_result"
    }
   ],
   "source": [
    "from sklearn.svm import SVC\n",
    "\n",
    "#from sklearn.svm import LinearSVC\n",
    "#text_classifier5 = LinearSVC()\n",
    "\n",
    "text_classifier5 = SVC(kernel='linear')\n",
    "text_classifier5.fit(X_train, Y_train)"
   ]
  },
  {
   "cell_type": "code",
   "execution_count": 43,
   "metadata": {},
   "outputs": [],
   "source": [
    "pred5 = text_classifier5.predict(X_test)"
   ]
  },
  {
   "cell_type": "code",
   "execution_count": 44,
   "metadata": {},
   "outputs": [
    {
     "name": "stdout",
     "output_type": "stream",
     "text": [
      "[[ 3480     2  1088]\n",
      " [  633     0   846]\n",
      " [  655     4 13274]]\n",
      "              precision    recall  f1-score   support\n",
      "\n",
      "           0       0.73      0.76      0.75      4570\n",
      "           1       0.00      0.00      0.00      1479\n",
      "           2       0.87      0.95      0.91     13933\n",
      "\n",
      "    accuracy                           0.84     19982\n",
      "   macro avg       0.53      0.57      0.55     19982\n",
      "weighted avg       0.78      0.84      0.81     19982\n",
      "\n",
      "0.8384546091482334\n"
     ]
    }
   ],
   "source": [
    "print(confusion_matrix(Y_test,pred5))\n",
    "print(classification_report(Y_test,pred5))\n",
    "print(accuracy_score(Y_test, pred5))"
   ]
  },
  {
   "cell_type": "code",
   "execution_count": 47,
   "metadata": {},
   "outputs": [
    {
     "name": "stdout",
     "output_type": "stream",
     "text": [
      "Collecting xgboost\n",
      "  Downloading xgboost-1.1.1-py3-none-win_amd64.whl (54.4 MB)\n",
      "Requirement already satisfied: numpy in c:\\users\\dell\\.conda\\envs\\test\\lib\\site-packages (from xgboost) (1.18.5)\n",
      "Requirement already satisfied: scipy in c:\\users\\dell\\.conda\\envs\\test\\lib\\site-packages (from xgboost) (1.4.1)\n",
      "Installing collected packages: xgboost\n",
      "Successfully installed xgboost-1.1.1\n"
     ]
    }
   ],
   "source": [
    "!pip install xgboost"
   ]
  },
  {
   "cell_type": "code",
   "execution_count": 55,
   "metadata": {},
   "outputs": [
    {
     "data": {
      "text/plain": [
       "XGBClassifier(base_score=0.5, booster='gbtree', colsample_bylevel=1,\n",
       "              colsample_bynode=1, colsample_bytree=1, gamma=0, gpu_id=-1,\n",
       "              importance_type='gain', interaction_constraints='',\n",
       "              learning_rate=0.300000012, max_delta_step=0, max_depth=6,\n",
       "              min_child_weight=1, missing=nan, monotone_constraints='()',\n",
       "              n_estimators=150, n_jobs=0, num_parallel_tree=1,\n",
       "              objective='multi:softprob', random_state=123, reg_alpha=0,\n",
       "              reg_lambda=1, scale_pos_weight=None, seed=123, subsample=1,\n",
       "              tree_method='exact', validate_parameters=1, verbosity=None)"
      ]
     },
     "execution_count": 55,
     "metadata": {},
     "output_type": "execute_result"
    }
   ],
   "source": [
    "from xgboost import XGBClassifier as xgb\n",
    "\n",
    "text_classifier6 = XGBClassifier(n_estimators=150, seed=123)\n",
    "text_classifier6.fit(X_train, Y_train)"
   ]
  },
  {
   "cell_type": "code",
   "execution_count": 56,
   "metadata": {},
   "outputs": [],
   "source": [
    "pred6 = text_classifier6.predict(X_test)"
   ]
  },
  {
   "cell_type": "code",
   "execution_count": 57,
   "metadata": {},
   "outputs": [
    {
     "name": "stdout",
     "output_type": "stream",
     "text": [
      "[[ 3122    45  1403]\n",
      " [  504    25   950]\n",
      " [  524    40 13369]]\n",
      "              precision    recall  f1-score   support\n",
      "\n",
      "           0       0.75      0.68      0.72      4570\n",
      "           1       0.23      0.02      0.03      1479\n",
      "           2       0.85      0.96      0.90     13933\n",
      "\n",
      "    accuracy                           0.83     19982\n",
      "   macro avg       0.61      0.55      0.55     19982\n",
      "weighted avg       0.78      0.83      0.79     19982\n",
      "\n",
      "0.8265438895005505\n"
     ]
    }
   ],
   "source": [
    "print(confusion_matrix(Y_test,pred6))\n",
    "print(classification_report(Y_test,pred6))\n",
    "print(accuracy_score(Y_test, pred6))\n",
    "#print(\"Accuracy: %.2f%%\" % (accuracy * 100.0))"
   ]
  },
  {
   "cell_type": "code",
   "execution_count": null,
   "metadata": {},
   "outputs": [],
   "source": []
  }
 ],
 "metadata": {
  "kernelspec": {
   "display_name": "test",
   "language": "python",
   "name": "other-env"
  },
  "language_info": {
   "codemirror_mode": {
    "name": "ipython",
    "version": 3
   },
   "file_extension": ".py",
   "mimetype": "text/x-python",
   "name": "python",
   "nbconvert_exporter": "python",
   "pygments_lexer": "ipython3",
   "version": "3.8.3"
  }
 },
 "nbformat": 4,
 "nbformat_minor": 2
}
